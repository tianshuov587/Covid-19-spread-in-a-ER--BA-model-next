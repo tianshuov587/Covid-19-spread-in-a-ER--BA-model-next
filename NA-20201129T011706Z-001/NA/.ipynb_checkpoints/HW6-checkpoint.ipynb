{
 "cells": [
  {
   "cell_type": "code",
   "execution_count": 1,
   "metadata": {},
   "outputs": [],
   "source": [
    "import networkx as nx"
   ]
  },
  {
   "cell_type": "code",
   "execution_count": 2,
   "metadata": {},
   "outputs": [],
   "source": [
    "import random"
   ]
  },
  {
   "cell_type": "code",
   "execution_count": 31,
   "metadata": {},
   "outputs": [],
   "source": [
    "import numpy as np"
   ]
  },
  {
   "cell_type": "code",
   "execution_count": 155,
   "metadata": {},
   "outputs": [],
   "source": [
    "lst1=[]\n",
    "lst2=[]\n",
    "lst3=[]\n",
    "lst4=[]\n",
    "def barabasi_albert_graph(N, m):\n",
    "    # 1. Start with a clique of m+1 nodes\n",
    "    G = nx.complete_graph(m+1)\n",
    "    list_fitness = []\n",
    "    for i in range(m+1):\n",
    "        list_fitness.append((i,random.random()))\n",
    "        lst1.append(G.degree(1))\n",
    "\n",
    "    \n",
    "    for i in range(G.number_of_nodes(), N):\n",
    "        # 2. Select m different nodes at random, weighted by their degree.\n",
    "        new_neighbors = []\n",
    "        possible_neighbors = list(G.nodes)\n",
    "        for _ in range(m):\n",
    "            degrees = [G.degree(n)*list_fitness[n][1] for n in possible_neighbors]\n",
    "            j = random.choices(possible_neighbors, degrees)[0]\n",
    "            new_neighbors.append(j)\n",
    "            possible_neighbors.remove(j)\n",
    "        \n",
    "        # 3. Add a new node i and link it with the m nodes from the previous step.\n",
    "        for j in new_neighbors:\n",
    "            G.add_edge(i, j)\n",
    "        list_fitness.append((i,random.random()))\n",
    "        \n",
    "        if(G.number_of_nodes()>0):\n",
    "            lst1.append(G.degree(1))\n",
    "        if(G.number_of_nodes()>10):\n",
    "            lst2.append(G.degree(10))\n",
    "        if(G.number_of_nodes()>100):\n",
    "            lst3.append(G.degree(100))\n",
    "        if(G.number_of_nodes()>1000):\n",
    "            lst4.append(G.degree(1000))\n",
    "    return G"
   ]
  },
  {
   "cell_type": "code",
   "execution_count": 156,
   "metadata": {},
   "outputs": [],
   "source": [
    "random.seed(82)\n",
    "G = barabasi_albert_graph(10000, 2)"
   ]
  },
  {
   "cell_type": "code",
   "execution_count": 158,
   "metadata": {},
   "outputs": [
    {
     "data": {
      "text/plain": [
       "9990"
      ]
     },
     "execution_count": 158,
     "metadata": {},
     "output_type": "execute_result"
    }
   ],
   "source": [
    "len(lst2)\n",
    "\n",
    "\n"
   ]
  },
  {
   "cell_type": "code",
   "execution_count": 159,
   "metadata": {},
   "outputs": [],
   "source": [
    "tem2 = [0]*10"
   ]
  },
  {
   "cell_type": "code",
   "execution_count": 160,
   "metadata": {},
   "outputs": [],
   "source": [
    "tem3 = [0]*100"
   ]
  },
  {
   "cell_type": "code",
   "execution_count": 161,
   "metadata": {},
   "outputs": [],
   "source": [
    "tem4 = [0]*1000"
   ]
  },
  {
   "cell_type": "code",
   "execution_count": 162,
   "metadata": {},
   "outputs": [],
   "source": [
    "#Add enough zeros to the front to make the total list reach 10,000\n",
    "lst12=tem2+lst2"
   ]
  },
  {
   "cell_type": "code",
   "execution_count": 163,
   "metadata": {},
   "outputs": [],
   "source": [
    "lst13=tem3+lst3"
   ]
  },
  {
   "cell_type": "code",
   "execution_count": 164,
   "metadata": {},
   "outputs": [],
   "source": [
    "lst14=tem4+lst4"
   ]
  },
  {
   "cell_type": "code",
   "execution_count": 165,
   "metadata": {},
   "outputs": [],
   "source": [
    "lst1_x= range(0,len(lst1))"
   ]
  },
  {
   "cell_type": "code",
   "execution_count": 167,
   "metadata": {},
   "outputs": [
    {
     "data": {
      "text/plain": [
       "[]"
      ]
     },
     "execution_count": 167,
     "metadata": {},
     "output_type": "execute_result"
    },
    {
     "data": {
      "image/png": "[encoded data removed]",
      "text/plain": [
       "<Figure size 432x288 with 1 Axes>"
      ]
     },
     "metadata": {
      "needs_background": "light"
     },
     "output_type": "display_data"
    }
   ],
   "source": [
    "import matplotlib.pyplot as plt\n",
    "plt.plot(lst1_x,lst1)\n",
    "plt.plot(lst1_x,lst12)\n",
    "plt.plot(lst1_x,lst13)\n",
    "plt.plot(lst1_x,lst14)\n",
    "plt.loglog()\n"
   ]
  },
  {
   "cell_type": "code",
   "execution_count": null,
   "metadata": {},
   "outputs": [],
   "source": []
  }
 ],
 "metadata": {
  "kernelspec": {
   "display_name": "Python 3",
   "language": "python",
   "name": "python3"
  },
  "language_info": {
   "codemirror_mode": {
    "name": "ipython",
    "version": 3
   },
   "file_extension": ".py",
   "mimetype": "text/x-python",
   "name": "python",
   "nbconvert_exporter": "python",
   "pygments_lexer": "ipython3",
   "version": "3.8.5"
  }
 },
 "nbformat": 4,
 "nbformat_minor": 2
}

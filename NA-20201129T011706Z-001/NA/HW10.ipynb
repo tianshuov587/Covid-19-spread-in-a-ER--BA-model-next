{
 "cells": [
  {
   "cell_type": "markdown",
   "metadata": {},
   "source": [
    "# 4a"
   ]
  },
  {
   "cell_type": "code",
   "execution_count": 118,
   "metadata": {},
   "outputs": [],
   "source": [
    "import itertools\n",
    "import random\n",
    "from random import sample\n",
    "import numpy as np\n",
    "%matplotlib inline\n",
    "import networkx"
   ]
  },
  {
   "cell_type": "code",
   "execution_count": 64,
   "metadata": {},
   "outputs": [],
   "source": [
    "G_ER=networkx.erdos_renyi_graph(1000, 0.01, seed=None, directed=False)"
   ]
  },
  {
   "cell_type": "code",
   "execution_count": 222,
   "metadata": {},
   "outputs": [],
   "source": [
    "values=[]\n",
    "for i in range(1000):\n",
    "    G_ER.node[i][\"virus\"] = 0\n",
    "    "
   ]
  },
  {
   "cell_type": "code",
   "execution_count": 223,
   "metadata": {},
   "outputs": [],
   "source": [
    "i0=[]"
   ]
  },
  {
   "cell_type": "code",
   "execution_count": 224,
   "metadata": {},
   "outputs": [],
   "source": [
    "# i_0 =10 from node1 to node10 is all i_0\n",
    "for i in range(1):\n",
    "    G_ER.nodes[i][\"virus\"]=1"
   ]
  },
  {
   "cell_type": "code",
   "execution_count": 225,
   "metadata": {},
   "outputs": [],
   "source": [
    "# for i in range(150):\n",
    "#     print(G_ER.nodes[i][\"virus\"])"
   ]
  },
  {
   "cell_type": "code",
   "execution_count": 226,
   "metadata": {},
   "outputs": [],
   "source": [
    "for i in range(1000):\n",
    "    #infect\n",
    "    #use thisset collect in this turn all the neighbors of nodes which is infected\n",
    "    thisset = set()\n",
    "    for j in range(1000):\n",
    "        if(G_ER.node[j][\"virus\"]==1):\n",
    "            tem=list(G_ER.neighbors(j))\n",
    "            #print(tem)\n",
    "            for _ in tem:\n",
    "                thisset.add(_)\n",
    "    # let neightbots infect\n",
    "    for x in thisset:\n",
    "        if(G_ER.node[x][\"virus\"] != 3 ):\n",
    "            G_ER.node[x][\"virus\"]=1\n",
    "    #recover:\n",
    "    tem = []\n",
    "    for r in range(1000):\n",
    "        if(G_ER.node[r][\"virus\"]==1):\n",
    "            tem.append(r)\n",
    "    recover=sample(tem, int(len(tem)*0.5))\n",
    "    #recover to normal\n",
    "    reco_n =sample(recover, int(len(recover)*0.5))\n",
    "    for _ in reco_n:\n",
    "        G_ER.node[_][\"virus\"]=0\n",
    "    #recover to invincible \n",
    "    for _ in recover:\n",
    "        if(G_ER.node[_][\"virus\"]==1):\n",
    "            G_ER.node[_][\"virus\"]=3\n",
    "            \n",
    "        \n",
    "    # cal\n",
    "    tem = 0\n",
    "    for z in range(1000):\n",
    "        if(G_ER.node[z][\"virus\"]==1):\n",
    "            tem = tem + 1\n",
    "    i0.append(tem/1000)"
   ]
  },
  {
   "cell_type": "code",
   "execution_count": 227,
   "metadata": {},
   "outputs": [
    {
     "data": {
      "text/plain": [
       "[0.004,\n",
       " 0.018,\n",
       " 0.079,\n",
       " 0.268,\n",
       " 0.385,\n",
       " 0.307,\n",
       " 0.23,\n",
       " 0.171,\n",
       " 0.123,\n",
       " 0.09,\n",
       " 0.06,\n",
       " 0.042,\n",
       " 0.026,\n",
       " 0.016,\n",
       " 0.011,\n",
       " 0.007,\n",
       " 0.004,\n",
       " 0.003,\n",
       " 0.002,\n",
       " 0.001]"
      ]
     },
     "execution_count": 227,
     "metadata": {},
     "output_type": "execute_result"
    }
   ],
   "source": [
    "i0[0:20]"
   ]
  },
  {
   "cell_type": "code",
   "execution_count": 228,
   "metadata": {},
   "outputs": [
    {
     "data": {
      "image/png": "[encoded data removed]",
      "text/plain": [
       "<Figure size 432x288 with 1 Axes>"
      ]
     },
     "metadata": {
      "needs_background": "light"
     },
     "output_type": "display_data"
    }
   ],
   "source": [
    "# Since the virus will be killed after about 20 iterations , so we plot first 50 iterations' result\n",
    "import matplotlib.pyplot as plt\n",
    "plt.plot(i0[0:50])\n",
    "plt.ylabel('some numbers')\n",
    "plt.show()"
   ]
  },
  {
   "cell_type": "markdown",
   "metadata": {},
   "source": [
    "# 4b:"
   ]
  },
  {
   "cell_type": "code",
   "execution_count": 229,
   "metadata": {},
   "outputs": [],
   "source": [
    "G_BA=networkx.generators.barabasi_albert_graph(10**3, 2, seed=None)"
   ]
  },
  {
   "cell_type": "code",
   "execution_count": 230,
   "metadata": {},
   "outputs": [],
   "source": [
    "valuesb=[]\n",
    "for i in range(1000):\n",
    "    G_BA.node[i][\"virus\"] = 0\n",
    "i0b=[]    \n",
    "for i in range(1):\n",
    "    G_BA.nodes[i][\"virus\"]=1\n"
   ]
  },
  {
   "cell_type": "code",
   "execution_count": 231,
   "metadata": {},
   "outputs": [],
   "source": [
    "for i in range(1000):\n",
    "    #infect\n",
    "    #use thisset collect in this turn all the neighbors of nodes which is infected\n",
    "    thisset = set()\n",
    "    for j in range(1000):\n",
    "        if(G_BA.node[j][\"virus\"]==1):\n",
    "            tem=list(G_BA.neighbors(j))\n",
    "            #print(tem)\n",
    "            for _ in tem:\n",
    "                thisset.add(_)\n",
    "    # let neightbots infect\n",
    "    for x in thisset:\n",
    "        if(G_BA.node[x][\"virus\"] != 3 ):\n",
    "            G_BA.node[x][\"virus\"]=1\n",
    "    #recover:\n",
    "    tem = []\n",
    "    for r in range(1000):\n",
    "        if(G_BA.node[r][\"virus\"]==1):\n",
    "            tem.append(r)\n",
    "    recover=sample(tem, int(len(tem)*0.5))\n",
    "    #recover to normal\n",
    "    reco_n =sample(recover, int(len(recover)*0.5))\n",
    "    for _ in reco_n:\n",
    "        G_BA.node[_][\"virus\"]=0\n",
    "    #recover to invincible \n",
    "    for _ in recover:\n",
    "        if(G_BA.node[_][\"virus\"]==1):\n",
    "            G_BA.node[_][\"virus\"]=3\n",
    "            \n",
    "        \n",
    "    # cal\n",
    "    tem = 0\n",
    "    for z in range(1000):\n",
    "        if(G_BA.node[z][\"virus\"]==1):\n",
    "            tem = tem + 1\n",
    "    i0b.append(tem/1000)"
   ]
  },
  {
   "cell_type": "code",
   "execution_count": 232,
   "metadata": {},
   "outputs": [
    {
     "data": {
      "text/plain": [
       "[0.007,\n",
       " 0.053,\n",
       " 0.115,\n",
       " 0.168,\n",
       " 0.209,\n",
       " 0.221,\n",
       " 0.194,\n",
       " 0.143,\n",
       " 0.109,\n",
       " 0.073,\n",
       " 0.053,\n",
       " 0.037,\n",
       " 0.025,\n",
       " 0.017,\n",
       " 0.009,\n",
       " 0.006,\n",
       " 0.003,\n",
       " 0.002,\n",
       " 0.001]"
      ]
     },
     "execution_count": 232,
     "metadata": {},
     "output_type": "execute_result"
    }
   ],
   "source": [
    "i0b[1:20]"
   ]
  },
  {
   "cell_type": "code",
   "execution_count": 233,
   "metadata": {},
   "outputs": [
    {
     "data": {
      "image/png": "[encoded data removed]",
      "text/plain": [
       "<Figure size 432x288 with 1 Axes>"
      ]
     },
     "metadata": {
      "needs_background": "light"
     },
     "output_type": "display_data"
    }
   ],
   "source": [
    "import matplotlib.pyplot as plt\n",
    "plt.plot(i0b[0:50])\n",
    "plt.ylabel('some numbers')\n",
    "plt.show()"
   ]
  },
  {
   "cell_type": "markdown",
   "metadata": {},
   "source": [
    "# 4c"
   ]
  },
  {
   "cell_type": "markdown",
   "metadata": {},
   "source": [
    "#In complex contagion models, the probability\n",
    "that a susceptible node becomes infected is proportional to the rate of infection among the node’s\n",
    "neighbors.\n"
   ]
  },
  {
   "cell_type": "code",
   "execution_count": 234,
   "metadata": {},
   "outputs": [],
   "source": []
  },
  {
   "cell_type": "code",
   "execution_count": 248,
   "metadata": {},
   "outputs": [],
   "source": [
    "for i in range(1000):\n",
    "    G_ER.node[i][\"virus\"] = 0\n",
    "i0=[]\n",
    "for i in range(1):\n",
    "    G_ER.nodes[i][\"virus\"]=1"
   ]
  },
  {
   "cell_type": "code",
   "execution_count": 249,
   "metadata": {},
   "outputs": [],
   "source": [
    "for i in range(1000):\n",
    "    #infect\n",
    "    #use thisset collect in this turn all the neighbors of nodes which is infected\n",
    "    thisset = set()\n",
    "    for j in range(1000):\n",
    "        if(G_ER.node[j][\"virus\"]==1):\n",
    "            tem=list(G_ER.neighbors(j))\n",
    "            #print(tem)\n",
    "            for _ in tem:\n",
    "                thisset.add(_)\n",
    "    # let neightbots infect\n",
    "    for x in thisset:\n",
    "        if(G_ER.node[x][\"virus\"] != 3 ):\n",
    "            tem = []\n",
    "            tem=list(G_ER.neighbors(x))\n",
    "            Numerator=0\n",
    "            for _ in tem:\n",
    "                if(G_ER.node[_][\"virus\"]==1):\n",
    "                    Numerator = Numerator+1\n",
    "            #time 20 to proportional\n",
    "            p = Numerator/len(tem)\n",
    "            if(random.random() < p):\n",
    "                G_ER.node[x][\"virus\"]=1\n",
    "    #recover:\n",
    "    tem = []\n",
    "    for r in range(1000):\n",
    "        if(G_ER.node[r][\"virus\"]==1):\n",
    "            tem.append(r)\n",
    "    recover=sample(tem, int(len(tem)*0.5))\n",
    "    #recover to normal\n",
    "    reco_n =sample(recover, int(len(recover)*0.5))\n",
    "    for _ in reco_n:\n",
    "        G_ER.node[_][\"virus\"]=0\n",
    "    #recover to invincible \n",
    "    for _ in recover:\n",
    "        if(G_ER.node[_][\"virus\"]==1):\n",
    "            G_ER.node[_][\"virus\"]=3\n",
    "            \n",
    "        \n",
    "    # cal\n",
    "    tem = 0\n",
    "    for z in range(1000):\n",
    "        if(G_ER.node[z][\"virus\"]==1):\n",
    "            tem = tem + 1\n",
    "    i0.append(tem/1000)"
   ]
  },
  {
   "cell_type": "code",
   "execution_count": 250,
   "metadata": {},
   "outputs": [
    {
     "data": {
      "text/plain": [
       "[0.001,\n",
       " 0.001,\n",
       " 0.001,\n",
       " 0.001,\n",
       " 0.001,\n",
       " 0.001,\n",
       " 0.002,\n",
       " 0.003,\n",
       " 0.004,\n",
       " 0.002,\n",
       " 0.002,\n",
       " 0.002,\n",
       " 0.001,\n",
       " 0.001,\n",
       " 0.002,\n",
       " 0.002,\n",
       " 0.002,\n",
       " 0.002,\n",
       " 0.002,\n",
       " 0.003,\n",
       " 0.003,\n",
       " 0.003,\n",
       " 0.002,\n",
       " 0.002,\n",
       " 0.002,\n",
       " 0.004,\n",
       " 0.005,\n",
       " 0.004,\n",
       " 0.003,\n",
       " 0.002]"
      ]
     },
     "execution_count": 250,
     "metadata": {},
     "output_type": "execute_result"
    }
   ],
   "source": [
    "i0[0:30]"
   ]
  },
  {
   "cell_type": "code",
   "execution_count": 251,
   "metadata": {},
   "outputs": [
    {
     "data": {
      "image/png": "[encoded data removed]",
      "text/plain": [
       "<Figure size 432x288 with 1 Axes>"
      ]
     },
     "metadata": {
      "needs_background": "light"
     },
     "output_type": "display_data"
    }
   ],
   "source": [
    "import matplotlib.pyplot as plt\n",
    "plt.plot(i0[0:500])\n",
    "plt.ylabel('i')\n",
    "plt.show()"
   ]
  },
  {
   "cell_type": "markdown",
   "metadata": {},
   "source": [
    "# 4d"
   ]
  },
  {
   "cell_type": "code",
   "execution_count": 253,
   "metadata": {},
   "outputs": [],
   "source": [
    "\n",
    "for i in range(1000):\n",
    "    G_BA.node[i][\"virus\"] = 0\n",
    "i0b=[]    \n",
    "for i in range(1):\n",
    "    G_BA.nodes[i][\"virus\"]=1"
   ]
  },
  {
   "cell_type": "code",
   "execution_count": 254,
   "metadata": {},
   "outputs": [],
   "source": [
    "for i in range(1000):\n",
    "    #infect\n",
    "    #use thisset collect in this turn all the neighbors of nodes which is infected\n",
    "    thisset = set()\n",
    "    for j in range(1000):\n",
    "        if(G_BA.node[j][\"virus\"]==1):\n",
    "            tem=list(G_BA.neighbors(j))\n",
    "            #print(tem)\n",
    "            for _ in tem:\n",
    "                thisset.add(_)\n",
    "    # let neightbots infect\n",
    "    for x in thisset:\n",
    "        if(G_ER.node[x][\"virus\"] != 3 ):\n",
    "            tem = []\n",
    "            tem=list(G_BA.neighbors(x))\n",
    "            Numerator=0\n",
    "            for _ in tem:\n",
    "                if(G_BA.node[_][\"virus\"]==1):\n",
    "                    Numerator = Numerator+1\n",
    "            p = Numerator/len(tem)\n",
    "            if(random.random() < p):\n",
    "                G_ER.node[x][\"virus\"]=1\n",
    "    #recover:\n",
    "    tem = []\n",
    "    for r in range(1000):\n",
    "        if(G_BA.node[r][\"virus\"]==1):\n",
    "            tem.append(r)\n",
    "    recover=sample(tem, int(len(tem)*0.5))\n",
    "    #recover to normal\n",
    "    reco_n =sample(recover, int(len(recover)*0.5))\n",
    "    for _ in reco_n:\n",
    "        G_BA.node[_][\"virus\"]=0\n",
    "    #recover to invincible \n",
    "    for _ in recover:\n",
    "        if(G_BA.node[_][\"virus\"]==1):\n",
    "            G_BA.node[_][\"virus\"]=3\n",
    "            \n",
    "        \n",
    "    # cal\n",
    "    tem = 0\n",
    "    for z in range(1000):\n",
    "        if(G_BA.node[z][\"virus\"]==1):\n",
    "            tem = tem + 1\n",
    "    i0b.append(tem/1000)"
   ]
  },
  {
   "cell_type": "code",
   "execution_count": 255,
   "metadata": {},
   "outputs": [
    {
     "data": {
      "text/plain": [
       "[0.001,\n",
       " 0.001,\n",
       " 0.001,\n",
       " 0.001,\n",
       " 0.001,\n",
       " 0.001,\n",
       " 0.001,\n",
       " 0.001,\n",
       " 0.001,\n",
       " 0.001,\n",
       " 0.001,\n",
       " 0.001,\n",
       " 0.001,\n",
       " 0.001,\n",
       " 0.001,\n",
       " 0.001,\n",
       " 0.001,\n",
       " 0.001,\n",
       " 0.001,\n",
       " 0.001,\n",
       " 0.001,\n",
       " 0.001,\n",
       " 0.001,\n",
       " 0.001,\n",
       " 0.001,\n",
       " 0.001,\n",
       " 0.001,\n",
       " 0.001,\n",
       " 0.001,\n",
       " 0.001]"
      ]
     },
     "execution_count": 255,
     "metadata": {},
     "output_type": "execute_result"
    }
   ],
   "source": [
    "i0b[0:30]"
   ]
  },
  {
   "cell_type": "code",
   "execution_count": 256,
   "metadata": {},
   "outputs": [
    {
     "data": {
      "image/png": "[encoded data removed]",
      "text/plain": [
       "<Figure size 432x288 with 1 Axes>"
      ]
     },
     "metadata": {
      "needs_background": "light"
     },
     "output_type": "display_data"
    }
   ],
   "source": [
    "import matplotlib.pyplot as plt\n",
    "plt.plot(i0b[0:500])\n",
    "plt.ylabel('i')\n",
    "plt.show()"
   ]
  },
  {
   "cell_type": "code",
   "execution_count": null,
   "metadata": {},
   "outputs": [],
   "source": []
  }
 ],
 "metadata": {
  "kernelspec": {
   "display_name": "Python 3",
   "language": "python",
   "name": "python3"
  },
  "language_info": {
   "codemirror_mode": {
    "name": "ipython",
    "version": 3
   },
   "file_extension": ".py",
   "mimetype": "text/x-python",
   "name": "python",
   "nbconvert_exporter": "python",
   "pygments_lexer": "ipython3",
   "version": "3.8.5"
  }
 },
 "nbformat": 4,
 "nbformat_minor": 2
}

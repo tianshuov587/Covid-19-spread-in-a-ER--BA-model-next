{
 "cells": [
  {
   "cell_type": "code",
   "execution_count": 175,
   "metadata": {},
   "outputs": [],
   "source": [
    "import itertools\n",
    "import random\n",
    "import numpy as np\n",
    "%matplotlib inline\n",
    "import networkx"
   ]
  },
  {
   "cell_type": "code",
   "execution_count": 176,
   "metadata": {},
   "outputs": [],
   "source": [
    "G_BA=networkx.generators.barabasi_albert_graph(10**5, 2, seed=None)"
   ]
  },
  {
   "cell_type": "code",
   "execution_count": 177,
   "metadata": {},
   "outputs": [],
   "source": [
    "G_ER=networkx.generators.binomial_graph(10**4, 10**(-3), seed=None, directed=False)"
   ]
  },
  {
   "cell_type": "code",
   "execution_count": 178,
   "metadata": {},
   "outputs": [],
   "source": [
    "degree=[]\n",
    "for n in range(10000):\n",
    "    degree.append(G_BA.degree(n))"
   ]
  },
  {
   "cell_type": "code",
   "execution_count": null,
   "metadata": {},
   "outputs": [],
   "source": []
  },
  {
   "cell_type": "code",
   "execution_count": 179,
   "metadata": {},
   "outputs": [],
   "source": [
    "degree= list(set(degree))"
   ]
  },
  {
   "cell_type": "code",
   "execution_count": 180,
   "metadata": {},
   "outputs": [],
   "source": [
    "degree.sort()"
   ]
  },
  {
   "cell_type": "code",
   "execution_count": null,
   "metadata": {},
   "outputs": [],
   "source": []
  },
  {
   "cell_type": "code",
   "execution_count": null,
   "metadata": {},
   "outputs": [],
   "source": []
  },
  {
   "cell_type": "code",
   "execution_count": 181,
   "metadata": {},
   "outputs": [],
   "source": [
    "y=[]\n",
    "for tem in degree:\n",
    "    x=[] #neighbors node\n",
    "    x1=[] #neighbors degree\n",
    "    for n in range(100000):\n",
    "        if(G_BA.degree(n) == tem):\n",
    "            x=list(G_BA.neighbors(n))\n",
    "            for _ in x:\n",
    "                x1.append(G_BA.degree(_))\n",
    "    if(len(x1) ==0):\n",
    "        y.append(0)\n",
    "    else:\n",
    "        y.append(sum(x1)/len(x1))\n",
    "            "
   ]
  },
  {
   "cell_type": "code",
   "execution_count": 182,
   "metadata": {},
   "outputs": [
    {
     "data": {
      "text/plain": [
       "[26.354345165238676,\n",
       " 22.469775389005008,\n",
       " 19.43930377863731,\n",
       " 18.02977832082388,\n",
       " 18.31491946877649,\n",
       " 16.76407107083234,\n",
       " 16.64995393120393,\n",
       " 15.360886734877042,\n",
       " 15.558507135016466,\n",
       " 16.684395825474663,\n",
       " 14.533733826247689,\n",
       " 14.705039787798409,\n",
       " 14.21843853820598,\n",
       " 15.535429769392033,\n",
       " 15.648470464135022,\n",
       " 13.970315904139433,\n",
       " 15.873907615480649,\n",
       " 13.496503496503497,\n",
       " 16.720642201834863,\n",
       " 15.73041474654378,\n",
       " 16.022977022977024,\n",
       " 13.070048309178745,\n",
       " 14.093875502008032,\n",
       " 13.522162162162163,\n",
       " 11.819628647214854,\n",
       " 15.887312844759654,\n",
       " 15.625615763546797,\n",
       " 14.362976406533575,\n",
       " 15.131782945736434,\n",
       " 14.126928471248247,\n",
       " 10.693509615384615,\n",
       " 11.74921630094044,\n",
       " 13.092592592592593,\n",
       " 15.6,\n",
       " 19.119883040935672,\n",
       " 14.245045045045044,\n",
       " 13.941647597254004,\n",
       " 14.15995115995116,\n",
       " 17.098684210526315,\n",
       " 12.390243902439025,\n",
       " 14.27310924369748,\n",
       " 13.484143763213531,\n",
       " 13.9512987012987,\n",
       " 14.05359477124183,\n",
       " 13.270186335403727,\n",
       " 14.392649903288202,\n",
       " 14.826923076923077,\n",
       " 16.139146567717997,\n",
       " 14.751111111111111,\n",
       " 9.032679738562091,\n",
       " 9.753205128205128,\n",
       " 11.316561844863731,\n",
       " 11.13888888888889,\n",
       " 13.0,\n",
       " 12.145833333333334,\n",
       " 14.614035087719298,\n",
       " 11.286637931034482,\n",
       " 12.24406779661017,\n",
       " 9.086666666666666,\n",
       " 11.215456674473067,\n",
       " 13.009216589861751,\n",
       " 13.119047619047619,\n",
       " 16.421875,\n",
       " 13.295384615384615,\n",
       " 14.782196969696969,\n",
       " 12.76865671641791,\n",
       " 12.117647058823529,\n",
       " 18.154589371980677,\n",
       " 16.83809523809524,\n",
       " 16.767605633802816,\n",
       " 12.287037037037036,\n",
       " 8.273972602739725,\n",
       " 6.216216216216216,\n",
       " 14.203333333333333,\n",
       " 4.947368421052632,\n",
       " 10.155844155844155,\n",
       " 7.7974683544303796,\n",
       " 9.784552845528456,\n",
       " 13.526104417670682,\n",
       " 12.75,\n",
       " 11.698039215686274,\n",
       " 10.918604651162791,\n",
       " 6.8352272727272725,\n",
       " 15.98876404494382,\n",
       " 15.324444444444444,\n",
       " 22.21978021978022,\n",
       " 21.652173913043477,\n",
       " 18.403225806451612,\n",
       " 10.77659574468085,\n",
       " 20.666666666666668,\n",
       " 11.783505154639176,\n",
       " 25.97979797979798,\n",
       " 17.099009900990097,\n",
       " 12.264705882352942,\n",
       " 21.25242718446602,\n",
       " 10.80952380952381,\n",
       " 11.576323987538942,\n",
       " 16.275229357798164,\n",
       " 17.62727272727273,\n",
       " 10.892857142857142,\n",
       " 14.761061946902656,\n",
       " 16.859649122807017,\n",
       " 15.304347826086957,\n",
       " 7.452991452991453,\n",
       " 10.134453781512605,\n",
       " 12.305785123966942,\n",
       " 13.578125,\n",
       " 12.527131782945736,\n",
       " 18.53846153846154,\n",
       " 7.53030303030303,\n",
       " 10.569343065693431,\n",
       " 10.390070921985815,\n",
       " 13.131944444444445,\n",
       " 13.510204081632653,\n",
       " 11.34,\n",
       " 11.636942675159236,\n",
       " 12.347058823529412,\n",
       " 20.404624277456648,\n",
       " 13.422857142857143,\n",
       " 14.106741573033707,\n",
       " 16.06989247311828,\n",
       " 10.303664921465968,\n",
       " 24.63917525773196,\n",
       " 13.261538461538462,\n",
       " 14.158415841584159,\n",
       " 12.936651583710407,\n",
       " 9.508928571428571,\n",
       " 9.8109243697479,\n",
       " 10.259414225941423,\n",
       " 16.418250950570343,\n",
       " 11.112781954887218,\n",
       " 10.326470588235294,\n",
       " 10.568627450980392,\n",
       " 11.48860759493671,\n",
       " 11.277909738717339,\n",
       " 11.01006711409396,\n",
       " 11.301710730948678,\n",
       " 9.898936170212766,\n",
       " 11.46692607003891,\n",
       " 11.402692778457773]"
      ]
     },
     "execution_count": 182,
     "metadata": {},
     "output_type": "execute_result"
    }
   ],
   "source": [
    "y"
   ]
  },
  {
   "cell_type": "code",
   "execution_count": null,
   "metadata": {},
   "outputs": [],
   "source": []
  },
  {
   "cell_type": "code",
   "execution_count": 183,
   "metadata": {},
   "outputs": [],
   "source": [
    "from matplotlib import pyplot as plt"
   ]
  },
  {
   "cell_type": "code",
   "execution_count": 184,
   "metadata": {},
   "outputs": [
    {
     "name": "stderr",
     "output_type": "stream",
     "text": [
      "No handles with labels found to put in legend.\n"
     ]
    },
    {
     "data": {
      "text/plain": [
       "<matplotlib.legend.Legend at 0xa25853f28>"
      ]
     },
     "execution_count": 184,
     "metadata": {},
     "output_type": "execute_result"
    },
    {
     "data": {
      "image/png": "[encoded data removed]",
      "text/plain": [
       "<Figure size 576x432 with 1 Axes>"
      ]
     },
     "metadata": {
      "needs_background": "light"
     },
     "output_type": "display_data"
    }
   ],
   "source": [
    "    plt.figure(num=1, figsize=(8, 6))\n",
    "    plt.title('Plot 1', size=14)\n",
    "    plt.loglog(degree,y,'o')\n",
    "    #plt.plot(list_x, list_lp, color='r', linestyle='-', marker='o',label='y2 data')\n",
    "    plt.legend(loc='upper left')"
   ]
  },
  {
   "cell_type": "code",
   "execution_count": 185,
   "metadata": {},
   "outputs": [],
   "source": [
    "degree=[]\n",
    "for n in range(10000):\n",
    "    degree.append(G_BA.degree(n))"
   ]
  },
  {
   "cell_type": "code",
   "execution_count": 186,
   "metadata": {},
   "outputs": [],
   "source": [
    "degree= list(set(degree))"
   ]
  },
  {
   "cell_type": "code",
   "execution_count": 187,
   "metadata": {},
   "outputs": [],
   "source": [
    "degree.sort()"
   ]
  },
  {
   "cell_type": "code",
   "execution_count": null,
   "metadata": {},
   "outputs": [],
   "source": []
  },
  {
   "cell_type": "code",
   "execution_count": null,
   "metadata": {},
   "outputs": [],
   "source": []
  },
  {
   "cell_type": "code",
   "execution_count": 188,
   "metadata": {},
   "outputs": [],
   "source": [
    "y=[]\n",
    "for tem in degree:\n",
    "    x=[] #neighbors\n",
    "    x1=[] #neighbors degree\n",
    "    for n in range(100000):\n",
    "        if(G_BA.degree(n) == tem):\n",
    "            x=list(G_BA.neighbors(n))\n",
    "            for _ in x:\n",
    "                x1.append(G_BA.degree(_))\n",
    "    if(len(x1) ==0):\n",
    "        y.append(0)\n",
    "    else:\n",
    "        y.append(sum(x1)/len(x1))\n",
    "            "
   ]
  },
  {
   "cell_type": "code",
   "execution_count": null,
   "metadata": {},
   "outputs": [],
   "source": []
  },
  {
   "cell_type": "code",
   "execution_count": 189,
   "metadata": {},
   "outputs": [
    {
     "name": "stderr",
     "output_type": "stream",
     "text": [
      "No handles with labels found to put in legend.\n"
     ]
    },
    {
     "data": {
      "text/plain": [
       "<matplotlib.legend.Legend at 0xa234a6400>"
      ]
     },
     "execution_count": 189,
     "metadata": {},
     "output_type": "execute_result"
    },
    {
     "data": {
      "image/png": "[encoded data removed]",
      "text/plain": [
       "<Figure size 576x432 with 1 Axes>"
      ]
     },
     "metadata": {
      "needs_background": "light"
     },
     "output_type": "display_data"
    }
   ],
   "source": [
    "    plt.figure(num=1, figsize=(8, 6))\n",
    "    plt.title('Plot 1', size=14)\n",
    "    plt.scatter(degree,y)\n",
    "    #plt.plot(list_x, list_lp, color='r', linestyle='-', marker='o',label='y2 data')\n",
    "    plt.legend(loc='upper left')"
   ]
  },
  {
   "cell_type": "code",
   "execution_count": null,
   "metadata": {},
   "outputs": [],
   "source": []
  }
 ],
 "metadata": {
  "kernelspec": {
   "display_name": "Python 3",
   "language": "python",
   "name": "python3"
  },
  "language_info": {
   "codemirror_mode": {
    "name": "ipython",
    "version": 3
   },
   "file_extension": ".py",
   "mimetype": "text/x-python",
   "name": "python",
   "nbconvert_exporter": "python",
   "pygments_lexer": "ipython3",
   "version": "3.7.1"
  }
 },
 "nbformat": 4,
 "nbformat_minor": 2
}

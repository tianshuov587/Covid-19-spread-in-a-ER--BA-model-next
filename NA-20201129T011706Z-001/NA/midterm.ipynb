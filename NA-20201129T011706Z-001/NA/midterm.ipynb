{
 "cells": [
  {
   "cell_type": "markdown",
   "metadata": {},
   "source": [
    "# 10.a"
   ]
  },
  {
   "cell_type": "code",
   "execution_count": 21,
   "metadata": {},
   "outputs": [],
   "source": [
    "import numpy as np\n",
    "import random as random\n",
    "import matplotlib.pyplot as plt\n",
    "from scipy.special import comb, perm"
   ]
  },
  {
   "cell_type": "code",
   "execution_count": 9,
   "metadata": {},
   "outputs": [],
   "source": [
    "\"\"\"\n",
    "Fill in the missing bits of code marked with ????.\n",
    "\"\"\"\n",
    "class Network:\n",
    "    def __init__(self):\n",
    "        \"\"\"\n",
    "        Creates an empty network.\n",
    "        Nodes are stored in a dictionary so that their neighbors can be easily retrieved.\n",
    "        \"\"\"\n",
    "        self.nodes = {}\n",
    "        # note that you can access nodes within the Network class using self.nodes.\n",
    "        # but, from outside of the class, it would be something like:\n",
    "        #     G = Network()\n",
    "        #     G.nodes\n",
    "        \n",
    "    def getNodes(self):\n",
    "        \"\"\"\n",
    "        Return dictionary of nodes.\n",
    "        \"\"\"\n",
    "        return self.nodes\n",
    "    \n",
    "    def getNeighbors(self,ID):\n",
    "        \"\"\"\n",
    "        Return the list of neighbor's node IDs\n",
    "        \"\"\"\n",
    "        return self.nodes.get(ID)\n",
    "        \n",
    "    def addNode(self,ID):\n",
    "        \"\"\"\n",
    "        Add a node with a prescribed ID. \n",
    "        By default, the new node has no neighbors.\n",
    "        \"\"\"\n",
    "        if not ID in self.nodes.keys():\n",
    "            thislist = []\n",
    "            self.nodes[ID]=thislist\n",
    "        else:\n",
    "            print(\"Attempting to add duplicate node!\")\n",
    "            \n",
    "    def addEdge(self,node1,node2):\n",
    "        \"\"\"\n",
    "        Add an edge connecting the node with ID=node1 to the node with ID=node2.\n",
    "        If nodes do not already exist in the network with ID=node1 or ID=node2, then add nodes.\n",
    "        \"\"\"\n",
    "        if not node1 in self.nodes.keys():\n",
    "            self.addNode(node1)\n",
    "        if not node2 in self.nodes.keys():\n",
    "            self.addNode(node2)\n",
    "        thislist = self.nodes[node1]\n",
    "        self.nodes[node1].append(node2)\n",
    "        thislist = self.nodes[node2]\n",
    "        self.nodes[node2].append(node1)\n",
    "        self.nodes[node1] = list(set(self.nodes[node1]))\n",
    "        self.nodes[node2] = list(set(self.nodes[node2]))\n",
    "        \n",
    "    def getEdges(self):\n",
    "        \"\"\"\n",
    "        Return a list of tuples containing the node pairs connected by an edge.\n",
    "        \"\"\"\n",
    "        ans = []\n",
    "        for n in self.nodes:\n",
    "            for i in self.nodes[n]:\n",
    "                thislist = []\n",
    "                thislist.append(n)\n",
    "                thislist.append(i)\n",
    "                if(n < i):\n",
    "                    ans.append(thislist)\n",
    "        return ans\n",
    "    \n",
    "    def getDegree(self,ID):\n",
    "        \"\"\"\n",
    "        Return the degree of the node with a given ID.\n",
    "        \"\"\"\n",
    "        a = len(self.nodes[ID])\n",
    "        return a\n",
    "    \n",
    "    def getDegrees(self):\n",
    "        \"\"\"\n",
    "        Return a list containing the degrees of each node.\n",
    "        \"\"\"\n",
    "        ans = []\n",
    "        for n in self.nodes:\n",
    "            a = len(self.nodes[n])\n",
    "            ans.append(a)\n",
    "        return ans\n",
    "    \n",
    "    def localClusteringCoefficient(self,ID):\n",
    "        \"\"\"\n",
    "        Return the local clustering coefficient for a node with a given ID.\n",
    "        \"\"\"\n",
    "        if not ID in self.nodes.keys():\n",
    "            print(\"Attempting to calculate the clustering coefficient for a node that does not exist in the network!\")\n",
    "            return\n",
    "\n",
    "        deg = len(self.nodes[ID])\n",
    "        a = int(comb(deg, 2))\n",
    "        b=0\n",
    "        for i in self.nodes[ID]:\n",
    "            for j in self.nodes[ID]:\n",
    "                if(j>i):\n",
    "                    if i in self.nodes[j]:\n",
    "                        b=b+1\n",
    "        if(a != 0):\n",
    "            return b/a\n",
    "        else:\n",
    "            return 0\n",
    "            \n",
    "            \n",
    "        \n",
    "        \n",
    "    def clusteringCoefficients(self):\n",
    "        \"\"\"\n",
    "        Return a list containing the local clustering coefficient of each node in the network.\n",
    "        \"\"\"\n",
    "        return [self.localClusteringCoefficient(node) for node in self.nodes.keys()]\n",
    "    \n",
    "        ans = []\n",
    "        for n in self.nodes:\n",
    "            ans.append(localClusteringCoefficient(n))\n",
    "        return ans"
   ]
  },
  {
   "cell_type": "code",
   "execution_count": 10,
   "metadata": {},
   "outputs": [],
   "source": [
    "Ans = Network()"
   ]
  },
  {
   "cell_type": "code",
   "execution_count": 11,
   "metadata": {},
   "outputs": [],
   "source": [
    "for n in range(10**3):\n",
    "    Ans.addNode(n)"
   ]
  },
  {
   "cell_type": "code",
   "execution_count": 12,
   "metadata": {},
   "outputs": [],
   "source": [
    "from random import Random"
   ]
  },
  {
   "cell_type": "code",
   "execution_count": 13,
   "metadata": {},
   "outputs": [],
   "source": [
    "for n in range(10**3):\n",
    "    for j in range(n,10**3):\n",
    "        if(random.randrange(100) == 1):\n",
    "            Ans.addEdge(n,j)"
   ]
  },
  {
   "cell_type": "code",
   "execution_count": 14,
   "metadata": {},
   "outputs": [],
   "source": [
    "lst_degree=(Ans.getDegrees())"
   ]
  },
  {
   "cell_type": "code",
   "execution_count": 15,
   "metadata": {},
   "outputs": [],
   "source": [
    "lst_ceo=Ans.clusteringCoefficients()"
   ]
  },
  {
   "cell_type": "code",
   "execution_count": 16,
   "metadata": {},
   "outputs": [],
   "source": [
    "lstx=[]\n",
    "for i in range(25):\n",
    "    lstx.append(i)\n"
   ]
  },
  {
   "cell_type": "code",
   "execution_count": 17,
   "metadata": {},
   "outputs": [
    {
     "data": {
      "text/plain": [
       "0"
      ]
     },
     "execution_count": 17,
     "metadata": {},
     "output_type": "execute_result"
    }
   ],
   "source": [
    "lst_degree.count(0)"
   ]
  },
  {
   "cell_type": "code",
   "execution_count": 18,
   "metadata": {},
   "outputs": [],
   "source": [
    "lsty = []\n",
    "for i in range(25):\n",
    "    w = lst_degree.count(i)/1000\n",
    "    lsty.append(w)"
   ]
  },
  {
   "cell_type": "code",
   "execution_count": 19,
   "metadata": {},
   "outputs": [
    {
     "data": {
      "text/plain": [
       "1.0"
      ]
     },
     "execution_count": 19,
     "metadata": {},
     "output_type": "execute_result"
    }
   ],
   "source": [
    "sum(lsty)"
   ]
  },
  {
   "cell_type": "markdown",
   "metadata": {},
   "source": [
    "# Degree probability distribution"
   ]
  },
  {
   "cell_type": "code",
   "execution_count": 22,
   "metadata": {},
   "outputs": [
    {
     "name": "stderr",
     "output_type": "stream",
     "text": [
      "No handles with labels found to put in legend.\n"
     ]
    },
    {
     "data": {
      "text/plain": [
       "<matplotlib.legend.Legend at 0x1ad253667c0>"
      ]
     },
     "execution_count": 22,
     "metadata": {},
     "output_type": "execute_result"
    },
    {
     "data": {
      "image/png": "[encoded data removed]",
      "text/plain": [
       "<Figure size 576x432 with 1 Axes>"
      ]
     },
     "metadata": {
      "needs_background": "light"
     },
     "output_type": "display_data"
    }
   ],
   "source": [
    "    plt.figure(num=1, figsize=(8, 6))\n",
    "    plt.title('Plot 1', size=14)\n",
    "    plt.plot(lstx,lsty)\n",
    "    plt.legend(loc='upper left')"
   ]
  },
  {
   "cell_type": "code",
   "execution_count": 23,
   "metadata": {},
   "outputs": [],
   "source": [
    "import matplotlib.pyplot as plt"
   ]
  },
  {
   "cell_type": "markdown",
   "metadata": {},
   "source": [
    "# Degree distribution"
   ]
  },
  {
   "cell_type": "code",
   "execution_count": 24,
   "metadata": {},
   "outputs": [
    {
     "data": {
      "text/plain": [
       "(array([ 14.,  57., 145., 115., 283., 192.,  70.,  76.,  37.,  11.]),\n",
       " array([ 2. ,  3.7,  5.4,  7.1,  8.8, 10.5, 12.2, 13.9, 15.6, 17.3, 19. ]),\n",
       " <BarContainer object of 10 artists>)"
      ]
     },
     "execution_count": 24,
     "metadata": {},
     "output_type": "execute_result"
    },
    {
     "data": {
      "image/png": "[encoded data removed]",
      "text/plain": [
       "<Figure size 432x288 with 1 Axes>"
      ]
     },
     "metadata": {
      "needs_background": "light"
     },
     "output_type": "display_data"
    }
   ],
   "source": [
    "plt.hist(x=lst_degree, color='#0504aa')\n",
    "\n"
   ]
  },
  {
   "cell_type": "markdown",
   "metadata": {},
   "source": [
    "# b local clusttering coefficients distribution"
   ]
  },
  {
   "cell_type": "code",
   "execution_count": 25,
   "metadata": {},
   "outputs": [
    {
     "data": {
      "text/plain": [
       "(array([630.,   4.,  22.,  46.,  37.,  38.,  55.,  41.,   7.,  26.,  11.,\n",
       "          0.,  17.,  16.,   0.,  12.,   1.,   1.,   8.,   6.,   0.,   0.,\n",
       "          0.,   0.,   0.,   0.,   4.,   3.,   0.,   0.,   1.,   0.,   0.,\n",
       "          0.,   1.,   0.,   0.,   0.,   0.,   1.,   0.,   0.,   2.,   0.,\n",
       "          0.,   0.,   1.,   0.,   0.,   1.,   1.,   0.,   0.,   0.,   0.,\n",
       "          3.,   0.,   0.,   0.,   0.,   0.,   1.,   0.,   0.,   0.,   0.,\n",
       "          0.,   0.,   0.,   1.,   0.,   0.,   0.,   0.,   0.,   0.,   0.,\n",
       "          0.,   1.,   0.,   0.,   0.,   0.,   0.,   0.,   0.,   0.,   0.,\n",
       "          0.,   0.,   0.,   1.]),\n",
       " array([0.        , 0.00362319, 0.00724638, 0.01086957, 0.01449275,\n",
       "        0.01811594, 0.02173913, 0.02536232, 0.02898551, 0.0326087 ,\n",
       "        0.03623188, 0.03985507, 0.04347826, 0.04710145, 0.05072464,\n",
       "        0.05434783, 0.05797101, 0.0615942 , 0.06521739, 0.06884058,\n",
       "        0.07246377, 0.07608696, 0.07971014, 0.08333333, 0.08695652,\n",
       "        0.09057971, 0.0942029 , 0.09782609, 0.10144928, 0.10507246,\n",
       "        0.10869565, 0.11231884, 0.11594203, 0.11956522, 0.12318841,\n",
       "        0.12681159, 0.13043478, 0.13405797, 0.13768116, 0.14130435,\n",
       "        0.14492754, 0.14855072, 0.15217391, 0.1557971 , 0.15942029,\n",
       "        0.16304348, 0.16666667, 0.17028986, 0.17391304, 0.17753623,\n",
       "        0.18115942, 0.18478261, 0.1884058 , 0.19202899, 0.19565217,\n",
       "        0.19927536, 0.20289855, 0.20652174, 0.21014493, 0.21376812,\n",
       "        0.2173913 , 0.22101449, 0.22463768, 0.22826087, 0.23188406,\n",
       "        0.23550725, 0.23913043, 0.24275362, 0.24637681, 0.25      ,\n",
       "        0.25362319, 0.25724638, 0.26086957, 0.26449275, 0.26811594,\n",
       "        0.27173913, 0.27536232, 0.27898551, 0.2826087 , 0.28623188,\n",
       "        0.28985507, 0.29347826, 0.29710145, 0.30072464, 0.30434783,\n",
       "        0.30797101, 0.3115942 , 0.31521739, 0.31884058, 0.32246377,\n",
       "        0.32608696, 0.32971014, 0.33333333]),\n",
       " <BarContainer object of 92 artists>)"
      ]
     },
     "execution_count": 25,
     "metadata": {},
     "output_type": "execute_result"
    },
    {
     "data": {
      "image/png": "[encoded data removed]",
      "text/plain": [
       "<Figure size 432x288 with 1 Axes>"
      ]
     },
     "metadata": {
      "needs_background": "light"
     },
     "output_type": "display_data"
    }
   ],
   "source": [
    "plt.hist(x=lst_ceo, bins='auto', color='#0504aa',\n",
    "                            alpha=0.7, rwidth=0.85)\n"
   ]
  },
  {
   "cell_type": "code",
   "execution_count": null,
   "metadata": {},
   "outputs": [],
   "source": []
  },
  {
   "cell_type": "code",
   "execution_count": null,
   "metadata": {},
   "outputs": [],
   "source": []
  },
  {
   "cell_type": "code",
   "execution_count": null,
   "metadata": {},
   "outputs": [],
   "source": []
  }
 ],
 "metadata": {
  "kernelspec": {
   "display_name": "Python 3",
   "language": "python",
   "name": "python3"
  },
  "language_info": {
   "codemirror_mode": {
    "name": "ipython",
    "version": 3
   },
   "file_extension": ".py",
   "mimetype": "text/x-python",
   "name": "python",
   "nbconvert_exporter": "python",
   "pygments_lexer": "ipython3",
   "version": "3.8.5"
  }
 },
 "nbformat": 4,
 "nbformat_minor": 4
}
